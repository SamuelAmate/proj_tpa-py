{
 "cells": [
  {
   "cell_type": "markdown",
   "metadata": {},
   "source": [
    "# Aula 05 - Introdução ao List Comprehension e Format"
   ]
  },
  {
   "cell_type": "markdown",
   "metadata": {},
   "source": [
    "> Nessa aula iremos dar introdução ao list comprehensions, uma forma mais simples de realizar conversões de valores entre duas ou mais listas. Atualmente é uma das formas mais simples de aplicar conversões, substituindo as declarações mais extensas do que o metodo conversional, lambda e o map."
   ]
  },
  {
   "cell_type": "markdown",
   "metadata": {},
   "source": [
    "# Exemplo 1 - Conversão de Celcius para Fahrenheint"
   ]
  },
  {
   "cell_type": "code",
   "execution_count": 41,
   "metadata": {},
   "outputs": [
    {
     "name": "stdout",
     "output_type": "stream",
     "text": [
      "[50.0, 68.0, 75.2, 95.0, 122.0]\n"
     ]
    }
   ],
   "source": [
    "celsius = [10,20,24,35,50]\n",
    "faren = [round(x*1.8+32,2) for x in celsius]\n",
    "print(faren)"
   ]
  },
  {
   "cell_type": "markdown",
   "metadata": {},
   "source": [
    "## Exemplo 2 - Conversão de Kmh para Mph"
   ]
  },
  {
   "cell_type": "code",
   "execution_count": 42,
   "metadata": {},
   "outputs": [
    {
     "name": "stdout",
     "output_type": "stream",
     "text": [
      "[12.42, 24.84, 37.27, 49.69, 62.11]\n"
     ]
    }
   ],
   "source": [
    "khm = [20,40,60,80,100]\n",
    "Mph = [round(x/1.61,2) for x in khm]\n",
    "print(Mph)"
   ]
  },
  {
   "cell_type": "code",
   "execution_count": 43,
   "metadata": {},
   "outputs": [
    {
     "name": "stdout",
     "output_type": "stream",
     "text": [
      "Kmh      Mph   \n",
      "============\n",
      "20     12.42 \n",
      "40     24.84 \n",
      "60     37.27 \n",
      "80     49.69 \n",
      "100    62.11 \n"
     ]
    }
   ],
   "source": [
    "print(\"{:<9}{:<6}\".format(\"Kmh\",\"Mph\"))\n",
    "print(\"============\")\n",
    "x = 0\n",
    "while(x<len(khm)) :\n",
    "    print(\"{:<7}{:<6}\".format(khm[x],Mph[x]))\n",
    "    x += 1"
   ]
  },
  {
   "cell_type": "code",
   "execution_count": 44,
   "metadata": {},
   "outputs": [
    {
     "name": "stdout",
     "output_type": "stream",
     "text": [
      "Celsius    Fahrenheit \n",
      "=====================\n",
      "10            50.0  \n",
      "20            68.0  \n",
      "24            75.2  \n",
      "35            95.0  \n",
      "50            122.0 \n"
     ]
    }
   ],
   "source": [
    "print(\"{:<11}{:<11}\".format(\"Celsius\",\"Fahrenheit\"))\n",
    "print(\"=====================\")\n",
    "x = 0\n",
    "while(x<len(khm)) :\n",
    "    print(\"{:<14}{:<6}\".format(celsius[x],faren[x]))\n",
    "    x += 1"
   ]
  },
  {
   "cell_type": "markdown",
   "metadata": {},
   "source": [
    "## Exercícios 1"
   ]
  },
  {
   "cell_type": "markdown",
   "metadata": {},
   "source": [
    "> Crie uma lista com 10 valores em metros. Crie uma tabela de conversão para polegadas, pés, jardas e mílhas marítimas. Listando o número da linha e o cabeçalho da tabela"
   ]
  },
  {
   "cell_type": "code",
   "execution_count": 95,
   "metadata": {},
   "outputs": [
    {
     "name": "stdout",
     "output_type": "stream",
     "text": [
      "N°           Metros       Polegadas       Pés           Jardas        Milhas Marítimas\n",
      "======================================================================================\n",
      "0             1             39.37          3.28           1.09               0.0                  \n",
      "1             2             78.74          6.56           2.19               0.0                  \n",
      "2             5             196.85         16.4           5.47               0.0                  \n",
      "3             10            393.7          32.8           10.94              0.01                 \n",
      "4             25            984.25         82.0           27.34              0.01                 \n",
      "5             50            1968.5         164.0          54.68              0.03                 \n",
      "6             100           3937.0         328.0          109.36             0.05                 \n",
      "7             250           9842.5         820.0          273.4              0.14                 \n",
      "8             500           19685.0        1640.0         546.8              0.27                 \n",
      "9             1000          39370.0        3280.0         1093.6             0.54                 \n"
     ]
    }
   ],
   "source": [
    "num = [0,1,2,3,4,5,6,7,8,9]\n",
    "metros = [1,2,5,10,25,50,100,250,500,1000]\n",
    "poleg = [round(x*39.37,2) for x in metros]\n",
    "pes = [round(x*3.28,2) for x in metros]\n",
    "jardas = [round(x*1.0936,2) for x in metros]\n",
    "milhas = [round(x*0.00054,2) for x in metros]\n",
    "print(\"{:<13}{:<13}{:<16}{:<14}{:<14}{:<14}\".format(\"N°\",\"Metros\",\"Polegadas\",\"Pés\",\"Jardas\",\"Milhas Marítimas\"))\n",
    "print(\"======================================================================================\")\n",
    "x = 0\n",
    "while(x<len(metros)) :\n",
    "    print(\"{:<14}{:<14}{:<15}{:<15}{:<19}{:<21}\".format(num[x],metros[x],poleg[x],pes[x],jardas[x],milhas[x]))\n",
    "    x += 1\n"
   ]
  },
  {
   "cell_type": "markdown",
   "metadata": {},
   "source": [
    "# Exercício 2"
   ]
  },
  {
   "cell_type": "markdown",
   "metadata": {},
   "source": [
    "> Crie uma lista com 10 valores em Kelvin. Crie uma tabela de conversão para Celsius e Fahrenheit, listando o número da linha e o cabeçalho da tabela"
   ]
  },
  {
   "cell_type": "code",
   "execution_count": 4,
   "metadata": {},
   "outputs": [
    {
     "name": "stdout",
     "output_type": "stream",
     "text": [
      "N°           Kelvin       Celsius      Fahrenheit    \n",
      "=================================================\n",
      "0            10           -263          -441.2        \n",
      "1            20           -253          -423.2        \n",
      "2            50           -223          -369.2        \n",
      "3            100          -173          -279.2        \n",
      "4            250          -23           -9.2          \n",
      "5            500          227           440.8         \n",
      "6            1000         727           1340.8        \n",
      "7            1250         977           1790.8        \n",
      "8            1500         1227          2240.8        \n",
      "9            2000         1727          3140.8        \n"
     ]
    }
   ],
   "source": [
    "kelvin = [10,20,50,100,250,500,1000,1250,1500,2000]\n",
    "cel = [round(x-273,2) for x in kelvin]\n",
    "fah = [round((x-273)*9/5 + 32.2,2) for x in kelvin]\n",
    "print(\"{:<13}{:<13}{:<13}{:<14}\".format(\"N°\",\"Kelvin\",\"Celsius\",\"Fahrenheit\"))\n",
    "print(\"=================================================\")\n",
    "for v in range(0,len(kelvin),1) :\n",
    "    print(\"{:<13}{:<13}{:<14}{:<14}\".format(v,kelvin[v],cel[v],fah[v]))"
   ]
  },
  {
   "cell_type": "markdown",
   "metadata": {},
   "source": [
    "# Exercício 3"
   ]
  },
  {
   "cell_type": "markdown",
   "metadata": {},
   "source": [
    "> Crie um uma lista com 10 pesos em quilos. Faça a conversão para o peso na Terra, Lua, Júpiter, Saturno e Mercúrio. Monte uma tabela com o cabeçalho e a numeração conforme os exercícios passados."
   ]
  },
  {
   "cell_type": "code",
   "execution_count": 18,
   "metadata": {},
   "outputs": [
    {
     "name": "stdout",
     "output_type": "stream",
     "text": [
      "N°           Terra          Lua          Jupíter       Saturno      Mercúrio      \n",
      "==============================================================================\n",
      "0             10           1.6514        25.2701       10.6422       3.7717        \n",
      "1             25           4.1284        63.1753       26.6055       9.4292        \n",
      "2             50           8.2569        126.3507      53.211        18.8583       \n",
      "3             100          16.5138       252.7013      106.422       37.7166       \n",
      "4             200          33.0275       505.4027      212.844       75.4332       \n",
      "5             300          49.5413       758.104       319.2661      113.1498      \n",
      "6             400          66.055        1010.8053     425.6881      150.8665      \n",
      "7             500          82.5688       1263.5066     532.1101      188.5831      \n",
      "8             750          123.8532      1895.2599     798.1651      282.8746      \n",
      "9             1000         165.1376      2527.0133     1064.2202     377.1662      \n"
     ]
    }
   ],
   "source": [
    "kilos = [10,25,50,100,200,300,400,500,750,1000]\n",
    "terra = kilos\n",
    "lua = [round(x/9.81*1.62,4) for x in kilos]\n",
    "jup = [round(x/9.81*24.79,4) for x in kilos]\n",
    "saturno = [round(x/9.81*10.44,4) for x in kilos]\n",
    "mercurio = [round(x/9.81*3.7,4) for x in kilos]\n",
    "print(\"{:<13}{:<15}{:<13}{:<14}{:<13}{:<14}\".format(\"N°\",\"Terra\",\"Lua\",\"Jupíter\",\"Saturno\",\"Mercúrio\"))\n",
    "print(\"==============================================================================\")\n",
    "for a in range(0,len(kilos),1) :\n",
    "    print(\"{:<14}{:<13}{:<14}{:<14}{:<14}{:<14}\".format(a,terra[a],lua[a],jup[a],saturno[a],mercurio[a]))"
   ]
  }
 ],
 "metadata": {
  "kernelspec": {
   "display_name": "Python 3",
   "language": "python",
   "name": "python3"
  },
  "language_info": {
   "codemirror_mode": {
    "name": "ipython",
    "version": 3
   },
   "file_extension": ".py",
   "mimetype": "text/x-python",
   "name": "python",
   "nbconvert_exporter": "python",
   "pygments_lexer": "ipython3",
   "version": "3.12.5"
  }
 },
 "nbformat": 4,
 "nbformat_minor": 2
}
