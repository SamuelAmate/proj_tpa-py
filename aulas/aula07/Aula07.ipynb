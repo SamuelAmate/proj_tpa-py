{
 "cells": [
  {
   "cell_type": "markdown",
   "metadata": {},
   "source": [
    "# Manipulação de Strings com Python"
   ]
  },
  {
   "cell_type": "markdown",
   "metadata": {},
   "source": [
    "> Uma variável primária de texto é chamada de char ou caracter possibilitando o armazenamento de 8 bit de memória. Quando necessitamos de um conjunto de caracteres utilizamos um objeto, ou variáveis compostas no caso da maioria das linguagens chamada de string. Vamos ver como se aplica."
   ]
  },
  {
   "cell_type": "code",
   "execution_count": 81,
   "metadata": {},
   "outputs": [
    {
     "name": "stdout",
     "output_type": "stream",
     "text": [
      "Boa tarde a todos\n",
      "Boa tarde\n"
     ]
    }
   ],
   "source": [
    "frase = \"Boa tarde a todos\"\n",
    "print(frase)\n",
    "saudacao = frase[0:9]\n",
    "print(saudacao)"
   ]
  },
  {
   "cell_type": "code",
   "execution_count": 82,
   "metadata": {},
   "outputs": [
    {
     "name": "stdout",
     "output_type": "stream",
     "text": [
      "<class 'str'>\n",
      "<class 'str'>\n"
     ]
    }
   ],
   "source": [
    "print(type(frase))\n",
    "print(type(saudacao))"
   ]
  },
  {
   "cell_type": "code",
   "execution_count": 83,
   "metadata": {},
   "outputs": [
    {
     "name": "stdout",
     "output_type": "stream",
     "text": [
      "3\n",
      "1\n"
     ]
    }
   ],
   "source": [
    "print(frase.count(' '))\n",
    "print(saudacao.count(' '))"
   ]
  },
  {
   "cell_type": "code",
   "execution_count": 84,
   "metadata": {},
   "outputs": [
    {
     "name": "stdout",
     "output_type": "stream",
     "text": [
      "17\n",
      "9\n"
     ]
    }
   ],
   "source": [
    "print(len(frase))\n",
    "print(len(saudacao))"
   ]
  },
  {
   "cell_type": "code",
   "execution_count": 85,
   "metadata": {},
   "outputs": [
    {
     "name": "stdout",
     "output_type": "stream",
     "text": [
      "Boa tarde galerinha!\n",
      "Boa noite\n"
     ]
    }
   ],
   "source": [
    "frase = frase.replace('a todos' , 'galerinha!')\n",
    "print(frase)\n",
    "saudacao = saudacao.replace('tarde' , 'noite')\n",
    "print(saudacao)"
   ]
  },
  {
   "cell_type": "code",
   "execution_count": 86,
   "metadata": {},
   "outputs": [
    {
     "name": "stdout",
     "output_type": "stream",
     "text": [
      "['B', 'o', 'a', ' ', 't', 'a', 'r', 'd', 'e', ' ', 'g', 'a', 'l', 'e', 'r', 'i', 'n', 'h', 'a', '!']\n"
     ]
    }
   ],
   "source": [
    "frase = [i for i in frase]\n",
    "print(frase)"
   ]
  },
  {
   "cell_type": "code",
   "execution_count": 87,
   "metadata": {},
   "outputs": [
    {
     "name": "stdout",
     "output_type": "stream",
     "text": [
      "B\n",
      "o\n",
      "a\n",
      " \n",
      "t\n",
      "a\n",
      "r\n",
      "d\n",
      "e\n",
      " \n",
      "g\n",
      "a\n",
      "l\n",
      "e\n",
      "r\n",
      "i\n",
      "n\n",
      "h\n",
      "a\n",
      "!\n"
     ]
    }
   ],
   "source": [
    "for x in frase:\n",
    "    print(x)"
   ]
  },
  {
   "cell_type": "markdown",
   "metadata": {},
   "source": [
    "## Exercício 1"
   ]
  },
  {
   "cell_type": "markdown",
   "metadata": {},
   "source": [
    "> Crie um código para a seguinte frase: \"\" reparticionado em partes, após isso crie um print format para visualizar cada palavra em uma coluna separada."
   ]
  },
  {
   "cell_type": "code",
   "execution_count": 103,
   "metadata": {},
   "outputs": [
    {
     "name": "stdout",
     "output_type": "stream",
     "text": [
      "Sabia\n",
      "que\n",
      "o\n",
      "sábia\n",
      "sabia\n",
      "assubiar\n"
     ]
    }
   ],
   "source": [
    "exer = ['Sabia','que','o','sábia','sabia','assubiar']\n",
    "for x in exer:\n",
    "    print(x)"
   ]
  },
  {
   "cell_type": "code",
   "execution_count": 89,
   "metadata": {},
   "outputs": [
    {
     "name": "stdout",
     "output_type": "stream",
     "text": [
      "['sabia', 'que', 'o', 'sabiá', 'sabia', 'assubiar']\n"
     ]
    }
   ],
   "source": [
    "frase3 = \"sabia que o sabiá sabia assubiar\"\n",
    "palavras = frase3.split()\n",
    "print(palavras)"
   ]
  },
  {
   "cell_type": "code",
   "execution_count": 90,
   "metadata": {},
   "outputs": [
    {
     "name": "stdout",
     "output_type": "stream",
     "text": [
      "['sabia', 'que', 'o', 'sabiá', 'sabia', 'assubiar']\n",
      "s q o s s a \n",
      "a u   a a s \n",
      "b e   b b s \n",
      "i     i i u \n",
      "a     á a b \n",
      "          i \n",
      "          a \n",
      "          r \n"
     ]
    }
   ],
   "source": [
    "frase3 = \"sabia que o sabiá sabia assubiar\"\n",
    "palavras = frase3.split()\n",
    "print(palavras)\n",
    "\n",
    "for i in range(max(len(x)for x in palavras)):\n",
    "    for y in palavras:\n",
    "        print(y[i] if i < len(y) else ' ', end=' ')\n",
    "    \n",
    "    print()"
   ]
  },
  {
   "cell_type": "code",
   "execution_count": 91,
   "metadata": {},
   "outputs": [
    {
     "name": "stdout",
     "output_type": "stream",
     "text": [
      "s q o s s a\n",
      "a u   a a s\n",
      "b e   b b s\n",
      "i     i i u\n",
      "a     á a b\n",
      "          i\n",
      "          a\n",
      "          r\n"
     ]
    }
   ],
   "source": [
    "for i in range(max(len(x) for x in palavras)):\n",
    "    print(' '.join(x[i] if i< len(x) else ' ' for x in palavras))"
   ]
  },
  {
   "cell_type": "markdown",
   "metadata": {},
   "source": [
    "# Introdução a Numpy"
   ]
  },
  {
   "cell_type": "markdown",
   "metadata": {},
   "source": [
    "> Numpy é uma biblioteca python para desenvolvimento de matrizes. Tem por objetivo facilitar na criação de algoritmos matematicos para solucionar paradgimas avançados em relação a arrays"
   ]
  },
  {
   "cell_type": "code",
   "execution_count": 92,
   "metadata": {},
   "outputs": [
    {
     "name": "stdout",
     "output_type": "stream",
     "text": [
      "Requirement already satisfied: numpy in c:\\users\\pichau\\appdata\\local\\programs\\python\\python312\\lib\\site-packages (2.1.2)\n",
      "Note: you may need to restart the kernel to use updated packages.\n"
     ]
    }
   ],
   "source": [
    "pip install numpy "
   ]
  },
  {
   "cell_type": "code",
   "execution_count": 93,
   "metadata": {},
   "outputs": [
    {
     "name": "stdout",
     "output_type": "stream",
     "text": [
      "[1 2 3]\n"
     ]
    }
   ],
   "source": [
    "import numpy as np\n",
    "a = np.array([1,2,3])\n",
    "print(a)"
   ]
  },
  {
   "cell_type": "code",
   "execution_count": 94,
   "metadata": {},
   "outputs": [
    {
     "name": "stdout",
     "output_type": "stream",
     "text": [
      "[[1 2 3]\n",
      " [4 5 6]]\n"
     ]
    }
   ],
   "source": [
    "b = np.array([(1,2,3),(4,5,6)])\n",
    "print(b)"
   ]
  },
  {
   "cell_type": "code",
   "execution_count": 95,
   "metadata": {},
   "outputs": [
    {
     "name": "stdout",
     "output_type": "stream",
     "text": [
      "[[1. 1. 1.]\n",
      " [1. 1. 1.]\n",
      " [1. 1. 1.]]\n"
     ]
    }
   ],
   "source": [
    "c = np.ones((3,3))\n",
    "print(c)"
   ]
  },
  {
   "cell_type": "code",
   "execution_count": 96,
   "metadata": {},
   "outputs": [
    {
     "name": "stdout",
     "output_type": "stream",
     "text": [
      "[[1. 0. 0. 0. 0.]\n",
      " [0. 1. 0. 0. 0.]\n",
      " [0. 0. 1. 0. 0.]\n",
      " [0. 0. 0. 1. 0.]\n",
      " [0. 0. 0. 0. 1.]]\n"
     ]
    }
   ],
   "source": [
    "d = np.eye(5)\n",
    "print(d)"
   ]
  },
  {
   "cell_type": "code",
   "execution_count": 97,
   "metadata": {},
   "outputs": [
    {
     "name": "stdout",
     "output_type": "stream",
     "text": [
      "3\n",
      "6\n",
      "1.0\n"
     ]
    }
   ],
   "source": [
    "print(a.max())\n",
    "print(b.max())\n",
    "print(c.max())"
   ]
  },
  {
   "cell_type": "code",
   "execution_count": 98,
   "metadata": {},
   "outputs": [
    {
     "name": "stdout",
     "output_type": "stream",
     "text": [
      "6\n",
      "21\n",
      "9.0\n",
      "5.0\n"
     ]
    }
   ],
   "source": [
    "print(a.sum())\n",
    "print(b.sum())\n",
    "print(c.sum())\n",
    "print(d.sum())"
   ]
  },
  {
   "cell_type": "markdown",
   "metadata": {},
   "source": [
    ">Para calcular média"
   ]
  },
  {
   "cell_type": "code",
   "execution_count": 99,
   "metadata": {},
   "outputs": [
    {
     "name": "stdout",
     "output_type": "stream",
     "text": [
      "2.0\n",
      "3.5\n",
      "1.0\n",
      "0.2\n"
     ]
    }
   ],
   "source": [
    "print(a.mean())\n",
    "print(b.mean())\n",
    "print(c.mean())\n",
    "print(d.mean())"
   ]
  },
  {
   "cell_type": "markdown",
   "metadata": {},
   "source": [
    "> Para desvio de padrão"
   ]
  },
  {
   "cell_type": "code",
   "execution_count": 100,
   "metadata": {},
   "outputs": [
    {
     "name": "stdout",
     "output_type": "stream",
     "text": [
      "0.82\n",
      "1.71\n",
      "0.0\n",
      "0.4\n"
     ]
    }
   ],
   "source": [
    "print(round(a.std(),2))\n",
    "print(round(b.std(),2))\n",
    "print(round(c.std(),2))\n",
    "print(round(d.std(),2))"
   ]
  },
  {
   "cell_type": "code",
   "execution_count": 101,
   "metadata": {},
   "outputs": [
    {
     "ename": "AttributeError",
     "evalue": "'numpy.ndarray' object has no attribute 'append'",
     "output_type": "error",
     "traceback": [
      "\u001b[1;31m---------------------------------------------------------------------------\u001b[0m",
      "\u001b[1;31mAttributeError\u001b[0m                            Traceback (most recent call last)",
      "Cell \u001b[1;32mIn[101], line 2\u001b[0m\n\u001b[0;32m      1\u001b[0m e \u001b[38;5;241m=\u001b[39m np\u001b[38;5;241m.\u001b[39marray([])\n\u001b[1;32m----> 2\u001b[0m \u001b[43me\u001b[49m\u001b[38;5;241;43m.\u001b[39;49m\u001b[43mappend\u001b[49m(\u001b[38;5;241m1\u001b[39m)\n\u001b[0;32m      3\u001b[0m \u001b[38;5;28mprint\u001b[39m(e)\n",
      "\u001b[1;31mAttributeError\u001b[0m: 'numpy.ndarray' object has no attribute 'append'"
     ]
    }
   ],
   "source": [
    "e = np.array([])\n",
    "e.append(1)\n",
    "print(e)"
   ]
  },
  {
   "cell_type": "markdown",
   "metadata": {},
   "source": [
    "# Exercício 2"
   ]
  },
  {
   "cell_type": "markdown",
   "metadata": {},
   "source": [
    "> Crie uma matriz chamada contar com os números de 0 até 9. Ao final crie uma contagem, média e desvio padrão dessa matriz. Para adicionar de zero a 9 utiize um for e depois atribua à matriz"
   ]
  },
  {
   "cell_type": "code",
   "execution_count": 102,
   "metadata": {},
   "outputs": [
    {
     "name": "stdout",
     "output_type": "stream",
     "text": [
      "[0.]\n",
      "[0. 1.]\n",
      "[0. 1. 2.]\n",
      "[0. 1. 2. 3.]\n",
      "[0. 1. 2. 3. 4.]\n",
      "[0. 1. 2. 3. 4. 5.]\n",
      "[0. 1. 2. 3. 4. 5. 6.]\n",
      "[0. 1. 2. 3. 4. 5. 6. 7.]\n",
      "[0. 1. 2. 3. 4. 5. 6. 7. 8.]\n",
      "[0. 1. 2. 3. 4. 5. 6. 7. 8. 9.]\n",
      "45.0\n",
      "4.5\n",
      "2.87\n"
     ]
    }
   ],
   "source": [
    "contar = []\n",
    "for x in range(10):\n",
    "    contar = np.append(contar,x)\n",
    "    print(contar)\n",
    "total = np.sum(contar)\n",
    "print (total)\n",
    "print(contar.mean())\n",
    "print(round(contar.std(),2))"
   ]
  }
 ],
 "metadata": {
  "kernelspec": {
   "display_name": "Python 3",
   "language": "python",
   "name": "python3"
  },
  "language_info": {
   "codemirror_mode": {
    "name": "ipython",
    "version": 3
   },
   "file_extension": ".py",
   "mimetype": "text/x-python",
   "name": "python",
   "nbconvert_exporter": "python",
   "pygments_lexer": "ipython3",
   "version": "3.12.5"
  }
 },
 "nbformat": 4,
 "nbformat_minor": 2
}
