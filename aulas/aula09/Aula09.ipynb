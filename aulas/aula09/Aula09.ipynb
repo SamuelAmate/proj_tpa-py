{
 "cells": [
  {
   "cell_type": "markdown",
   "metadata": {},
   "source": [
    "# Introduções as Tabelas "
   ]
  },
  {
   "cell_type": "markdown",
   "metadata": {},
   "source": [
    "> As Tabelas Hash são estruturas de dados comum para localização de grandes quantidades de dados. Devido sua eficiência na busca, inserção e remoção de elementos utiliza a indexação dos dados como nos dicionários já vistos em aula."
   ]
  },
  {
   "cell_type": "markdown",
   "metadata": {},
   "source": [
    "Aplicações:\n",
    "1. Banco de Dados\n",
    "2. Cache de Memória\n",
    "3. Compiladores\n",
    "4. Algoritmos de Busca\n",
    "5. Big Data"
   ]
  },
  {
   "cell_type": "code",
   "execution_count": 9,
   "metadata": {},
   "outputs": [],
   "source": [
    "class HashTable:\n",
    "    # Construtor da tabela hash\n",
    "    def __init__(self, size=10):\n",
    "        self.size = size;\n",
    "        self.table = [[] for _ in range(self.size)]\n",
    "\n",
    "    # Método que calcula o índice da tabela através da chave\n",
    "    def hash(self, key):\n",
    "        return hash(key) % self.size\n",
    "    \n",
    "    # Método que insere um valor através da sua chave\n",
    "    def insert(self, key, value):\n",
    "        index = self._hash(key)\n",
    "        for y in self.table[index]:\n",
    "            if y[0] == key:\n",
    "                y[1] = value\n",
    "                return\n",
    "        self.table[index].append([key, value])\n",
    "\n",
    "    # Método de remover valor através da sua chave\n",
    "    def remove(self, key):\n",
    "        index = self._hash(key)\n",
    "        for i, y in enumerate(self.table(index)):\n",
    "            if y[0] == key:\n",
    "             del self.table[index][i]\n",
    "             return True\n",
    "            return False\n",
    "        \n",
    "    def get(self, key):\n",
    "        index = self.hash(key)\n",
    "        for y in self.table[index]:\n",
    "            if y[0] == key:\n",
    "                return y[1]\n",
    "            return None\n",
    "\n",
    "    \n",
    "if __name__ == \"_main_\":\n",
    "    biblioteca = HashTable()\n",
    "    biblioteca.insert(\"A\",\"Alice no Pais das Maravilhas\")\n",
    "    biblioteca.insert(\"M\",\"Marcelinho Pão e VInho\")\n",
    "    biblioteca.insert(\"O\",\"O Código Da Vinci\")\n",
    "\n",
    "    print(biblioteca.get(\"A\"))\n",
    "    print(biblioteca.get(\"M\"))\n",
    "\n",
    "    print(biblioteca.get(\"A\"))\n",
    "    print(biblioteca.get(\"M\"))"
   ]
  },
  {
   "cell_type": "markdown",
   "metadata": {},
   "source": [
    "# Exercício 1"
   ]
  },
  {
   "cell_type": "markdown",
   "metadata": {},
   "source": [
    ">Crie uma pratilheira de mercado onde será organizado os produtos por numeração e o nome onde:\n",
    "0. Frios\n",
    "1. Limpeza\n",
    "2. Vegetais\n",
    "3. Cereais\n",
    "4. Bebidas\n",
    "5. Padaria\n",
    "6. Laticícios\n",
    "7. Açougue\n",
    "8. Hortaliças\n",
    "9. Bebidas Alcólicas\n",
    "\n",
    "Aplique uma tabela Hash para criar o mercadinho"
   ]
  },
  {
   "cell_type": "code",
   "execution_count": 18,
   "metadata": {},
   "outputs": [],
   "source": [
    "class HashTable:\n",
    "    # Construtor da tabela hash\n",
    "    def __init__(self, size=10):\n",
    "        self.size = size;\n",
    "        self.table = [[] for _ in range(self.size)]\n",
    "\n",
    "    # Método que calcula o índice da tabela através da chave\n",
    "    def hash(self, key):\n",
    "        return hash(key) % self.size\n",
    "    \n",
    "    # Método que insere um valor através da sua chave\n",
    "    def insert(self, key, value):\n",
    "        index = self._hash(key)\n",
    "        for y in self.table[index]:\n",
    "            if y[0] == key:\n",
    "                y[1] = value\n",
    "                return\n",
    "        self.table[index].append([key, value])\n",
    "\n",
    "    # Método de remover valor através da sua chave\n",
    "    def remove(self, key):\n",
    "        index = self._hash(key)\n",
    "        for i, y in enumerate(self.table(index)):\n",
    "            if y[0] == key:\n",
    "             del self.table[index][i]\n",
    "             return True\n",
    "            return False\n",
    "        \n",
    "    def get(self, key):\n",
    "        index = self.hash(key)\n",
    "        for y in self.table[index]:\n",
    "            if y[0] == key:\n",
    "                return y[1]\n",
    "        return None\n",
    "\n",
    "    def display(self):\n",
    "        for index, bucket in enumerate(self.table):\n",
    "            if bucket:  # Verifica se o balde não está vazio\n",
    "                for key, value in bucket:\n",
    "                    print(f'Chave: {key}, Valor: {value}')\n",
    "    \n",
    "if __name__ == \"_main_\":\n",
    "    biblioteca = HashTable()\n",
    "    biblioteca.insert(\"1\",\"Frios\")\n",
    "    biblioteca.insert(\"2\",\"Limpeza\")\n",
    "    biblioteca.insert(\"3\",\"Vegetais\")\n",
    "\n",
    "    print(biblioteca.get(\"1\"))\n",
    "    print(biblioteca.get(\"2\"))\n",
    "    print(biblioteca.get(\"3\"))\n",
    "    biblioteca.display()"
   ]
  }
 ],
 "metadata": {
  "kernelspec": {
   "display_name": "Python 3",
   "language": "python",
   "name": "python3"
  },
  "language_info": {
   "codemirror_mode": {
    "name": "ipython",
    "version": 3
   },
   "file_extension": ".py",
   "mimetype": "text/x-python",
   "name": "python",
   "nbconvert_exporter": "python",
   "pygments_lexer": "ipython3",
   "version": "3.12.2"
  }
 },
 "nbformat": 4,
 "nbformat_minor": 2
}
